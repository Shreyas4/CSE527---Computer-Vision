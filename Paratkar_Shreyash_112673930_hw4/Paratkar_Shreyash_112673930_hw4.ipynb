{
  "nbformat": 4,
  "nbformat_minor": 0,
  "metadata": {
    "anaconda-cloud": {},
    "kernelspec": {
      "name": "python3",
      "display_name": "Python 3"
    },
    "language_info": {
      "codemirror_mode": {
        "name": "ipython",
        "version": 3
      },
      "file_extension": ".py",
      "mimetype": "text/x-python",
      "name": "python",
      "nbconvert_exporter": "python",
      "pygments_lexer": "ipython3",
      "version": "3.7.3"
    },
    "colab": {
      "name": "Paratkar_Shreyash_112673930_hw4.ipynb",
      "provenance": [],
      "collapsed_sections": [],
      "machine_shape": "hm"
    },
    "accelerator": "GPU"
  },
  "cells": [
    {
      "cell_type": "markdown",
      "metadata": {
        "id": "XSfnuObtYYMH",
        "colab_type": "text"
      },
      "source": [
        "# CSE527 Homework 4\n",
        "**Due date: 23:59 on Nov. 5, 2019 (Thuesday)**\n",
        "\n",
        "In this semester, we will use Google Colab for the assignments, which allows us to utilize resources that some of us might not have in their local machines such as GPUs. You will need to use your Stony Brook (*.stonybrook.edu) account for coding and Google Drive to save your results.\n",
        "\n",
        "## Google Colab Tutorial\n",
        "---\n",
        "Go to https://colab.research.google.com/notebooks/, you will see a tutorial named \"Welcome to Colaboratory\" file, where you can learn the basics of using google colab.\n",
        "\n",
        "Settings used for assignments: ***Edit -> Notebook Settings -> Runtime Type (Python 3)***.\n",
        "\n",
        "\n",
        "## Description\n",
        "---\n",
        "This project is an introduction to deep learning tools for computer vision. You will design and train deep convolutional networks for scene recognition using [PyTorch](http://pytorch.org). You can visualize the\n",
        "structure of the network with [mNeuron] (http://vision03.csail.mit.edu/cnn_art/index.html)\n",
        "\n",
        "Remember Homework 3: Scene recognition with bag of words. You worked hard to design a bag of features representations that achieved 60% to 70% accuracy (most likely) on 16-way scene classification. We're going to attack the same task with deep learning and get higher accuracy. Training from scratch won't work quite as well as homework 3 due to the insufficient amount of data, fine-tuning an existing network will work much better than homework 3.\n",
        "\n",
        "In Problem 1 of the project you will train a deep convolutional network from scratch to recognize scenes. The starter codes gives you methods to load data and display them. You will need to define a simple network architecture and add jittering, normalization, and regularization to increase recognition accuracy to 50, 60, or perhaps 70%. Unfortunately, we only have 2,400 training examples so it doesn't seem possible to train a network from scratch which outperforms hand-crafted features\n",
        "\n",
        "For Problem 2 you will instead fine-tune a pre-trained deep network to achieve about 85% accuracy on the task. We will use the pretrained AlexNet network which was not trained to recognize scenes at all. \n",
        "\n",
        "These two approaches represent the most common approaches to recognition problems in computer vision today -- train a deep network from scratch if you have enough data (it's not always obvious whether or not you do), and if you cannot then instead fine-tune a pre-trained network.\n",
        "\n",
        "There are 2 problems in this homework with a total of 110 points including 10 bonus points. Be sure to read **Submission Guidelines** below. They are important. For the problems requiring text descriptions, you might want to add a markdown block for that.\n",
        "\n",
        "## Dataset\n",
        "---\n",
        "Save the [dataset(click me)](https://drive.google.com/open?id=1NWC3TMsXSWN2TeoYMCjhf2N1b-WRDh-M) into your working folder in your Google Drive for this homework. <br>\n",
        "Under your root folder, there should be a folder named \"data\" (i.e. XXX/Surname_Givenname_SBUID/data) containing the images.\n",
        "**Do not upload** the data subfolder before submitting on blackboard due to size limit. There should be only one .ipynb file under your root folder Surname_Givenname_SBUID.\n",
        "\n",
        "## Some Tutorials (PyTorch)\n",
        "---\n",
        "- You will be using PyTorch for deep learning toolbox (follow the [link](http://pytorch.org) for installation).\n",
        "- For PyTorch beginners, please read this [tutorial](http://pytorch.org/tutorials/beginner/deep_learning_60min_blitz.html) before doing your homework.\n",
        "- Feel free to study more tutorials at http://pytorch.org/tutorials/.\n",
        "- Find cool visualization here at http://playground.tensorflow.org.\n",
        "\n",
        "\n",
        "## Starter Code\n",
        "---\n",
        "In the starter code, you are provided with a function that loads data into minibatches for training and testing in PyTorch."
      ]
    },
    {
      "cell_type": "code",
      "metadata": {
        "id": "0UA6WFgcYYMI",
        "colab_type": "code",
        "colab": {}
      },
      "source": [
        "# import packages here\n",
        "import cv2\n",
        "import numpy as np\n",
        "import matplotlib.pyplot as plt\n",
        "import glob\n",
        "import random \n",
        "import time\n",
        "\n",
        "# for creating validation set\n",
        "from sklearn.model_selection import train_test_split\n",
        "\n",
        "# for evaluating the model\n",
        "from sklearn.metrics import accuracy_score\n",
        "from tqdm import tqdm\n",
        "\n",
        "import torch\n",
        "import torchvision\n",
        "from torchvision import models\n",
        "import torchvision.transforms as transforms\n",
        "\n",
        "from torch.autograd import Variable\n",
        "import torch.nn as nn\n",
        "import torch.nn.functional as F\n",
        "\n",
        "# PyTorch libraries and modules\n",
        "from torch.nn import Linear, ReLU, CrossEntropyLoss, Sequential, Conv2d, MaxPool2d, Module, Softmax, BatchNorm2d, Dropout\n",
        "from torch.optim import Adam, SGD\n",
        "\n",
        "import pickle\n",
        "import time"
      ],
      "execution_count": 0,
      "outputs": []
    },
    {
      "cell_type": "code",
      "metadata": {
        "id": "L7T72O-1ks-a",
        "colab_type": "code",
        "outputId": "844bb5ec-52f0-4404-fd55-75b4b1a60d21",
        "colab": {
          "base_uri": "https://localhost:8080/",
          "height": 139
        }
      },
      "source": [
        "# Mount your google drive where you've saved your assignment folder\n",
        "from google.colab import drive\n",
        "drive.mount('/content/gdrive', force_remount=True)\n",
        "%pwd"
      ],
      "execution_count": 0,
      "outputs": [
        {
          "output_type": "stream",
          "text": [
            "Go to this URL in a browser: https://accounts.google.com/o/oauth2/auth?client_id=947318989803-6bn6qk8qdgf4n4g3pfee6491hc0brc4i.apps.googleusercontent.com&redirect_uri=urn%3Aietf%3Awg%3Aoauth%3A2.0%3Aoob&scope=email%20https%3A%2F%2Fwww.googleapis.com%2Fauth%2Fdocs.test%20https%3A%2F%2Fwww.googleapis.com%2Fauth%2Fdrive%20https%3A%2F%2Fwww.googleapis.com%2Fauth%2Fdrive.photos.readonly%20https%3A%2F%2Fwww.googleapis.com%2Fauth%2Fpeopleapi.readonly&response_type=code\n",
            "\n",
            "Enter your authorization code:\n",
            "··········\n",
            "Mounted at /content/gdrive\n"
          ],
          "name": "stdout"
        },
        {
          "output_type": "execute_result",
          "data": {
            "text/plain": [
              "'/content'"
            ]
          },
          "metadata": {
            "tags": []
          },
          "execution_count": 2
        }
      ]
    },
    {
      "cell_type": "code",
      "metadata": {
        "id": "xIT3WIuykrg0",
        "colab_type": "code",
        "outputId": "39dcd610-4c97-4581-8485-6e7617672ea7",
        "colab": {
          "base_uri": "https://localhost:8080/",
          "height": 34
        }
      },
      "source": [
        "# Set your working directory (in your google drive)\n",
        "# Note that 'gdrive/My Drive/Y2019Fall/CSE-527-Intro-To-Computer-Vision/hw4' is just an example, \n",
        "#   change it to your specific homework directory.\n",
        "cd '/content/gdrive/My Drive/Y2019Fall/CSE-527-Intro-To-Computer-Vision/Paratkar_Shreyash_112673930_hw4'"
      ],
      "execution_count": 0,
      "outputs": [
        {
          "output_type": "stream",
          "text": [
            "/content/gdrive/My Drive/Y2019Fall/CSE-527-Intro-To-Computer-Vision/Paratkar_Shreyash_112673930_hw4\n"
          ],
          "name": "stdout"
        }
      ]
    },
    {
      "cell_type": "code",
      "metadata": {
        "colab_type": "code",
        "outputId": "162ae1b6-00e1-4ad8-ad80-96a8ff5eec07",
        "id": "tJYxU12s-IT4",
        "colab": {
          "base_uri": "https://localhost:8080/",
          "height": 221
        }
      },
      "source": [
        "%pwd\n",
        "%ls -lrt"
      ],
      "execution_count": 0,
      "outputs": [
        {
          "output_type": "stream",
          "text": [
            "total 2007647\n",
            "-rw------- 1 root root   39371054 Nov  4 01:33 trainloader_small.pkl\n",
            "-rw------- 1 root root    6561642 Nov  4 01:33 testloader_small.pkl\n",
            "-rw------- 1 root root   78742766 Nov  4 06:28 trainloader_small_augmented.pkl\n",
            "-rw------- 1 root root   78742766 Nov  4 06:37 trainloader_small_augmented_normalized.pkl\n",
            "-rw------- 1 root root  118113902 Nov  4 08:59 trainloader_small_augmented_normalized_rotated.pkl\n",
            "-rw------- 1 root root 1445118158 Nov  4 09:27 trainloader_large.pkl\n",
            "-rw------- 1 root root  240852826 Nov  4 09:30 testloader_large.pkl\n",
            "-rw------- 1 root root   39336214 Nov  5 02:08 alexnet_output.pkl\n",
            "-rw------- 1 root root    6556058 Nov  5 02:08 alexnet_output_test.pkl\n",
            "-rw------- 1 root root    2346954 Nov  5 18:16 Paratkar_Shreyash_112673930_hw4.pdf\n",
            "-rw------- 1 root root      85678 Nov  6 00:14 Paratkar_Shreyash_112673930_hw4.ipynb\n"
          ],
          "name": "stdout"
        }
      ]
    },
    {
      "cell_type": "code",
      "metadata": {
        "id": "0NxnBcUqk_9B",
        "colab_type": "code",
        "outputId": "80c60f25-be9b-438e-f3eb-b962a25df99a",
        "colab": {
          "base_uri": "https://localhost:8080/",
          "height": 54
        }
      },
      "source": [
        "# ==========================================\n",
        "#    Load Training Data and Testing Data\n",
        "# ==========================================\n",
        "class_names = [name[111:] for name in glob.glob('/content/gdrive/My Drive/Y2019Fall/CSE-527-Intro-To-Computer-Vision/Paratkar_Shreyash_112673930_hw3/data/train/*')]\n",
        "class_names = dict(zip(range(len(class_names)), class_names))\n",
        "print(\"class_names: %s \" % class_names)\n",
        "n_train_samples = 150\n",
        "n_test_samples = 50\n",
        "\n",
        "\n",
        "def img_norm(img):\n",
        "  #\n",
        "  # Write your code here\n",
        "  # normalize img pixels to [-1, 1]\n",
        "  #\n",
        "  img = img.astype(float)\n",
        "  img = cv2.normalize(img, None, alpha=-1, beta=1, norm_type=cv2.NORM_MINMAX, dtype=cv2.CV_32F)\n",
        "  return img\n",
        "\n",
        "def load_dataset(path, img_size, num_per_class=-1, batch_num=1, shuffle=False, augment=False, is_color=False,\n",
        "                rotate_90=False, zero_centered=False):\n",
        "    \n",
        "    data = []\n",
        "    labels = []\n",
        "    \n",
        "    if is_color:\n",
        "        channel_num = 3\n",
        "    else:\n",
        "        channel_num = 1\n",
        "        \n",
        "    # read images and resizing\n",
        "    for id, class_name in class_names.items():\n",
        "        print(\"Loading images from class: %s\" % id)\n",
        "        img_path_class = glob.glob(path + class_name + '/*.jpg')\n",
        "        if num_per_class > 0:\n",
        "            img_path_class = img_path_class[:num_per_class]\n",
        "        labels.extend([id]*len(img_path_class))\n",
        "        if augment == True:\n",
        "          labels.extend([id]*len(img_path_class))\n",
        "        if rotate_90 == True:\n",
        "          labels.extend([id]*len(img_path_class))\n",
        "        for filename in img_path_class:\n",
        "            if is_color:\n",
        "                img = cv2.imread(filename)\n",
        "            else:\n",
        "                img = cv2.imread(filename, 0)\n",
        "            \n",
        "            # resize the image\n",
        "            img = cv2.resize(img, img_size, cv2.INTER_LINEAR)\n",
        "            \n",
        "            if is_color:\n",
        "                img = np.transpose(img, [2, 0, 1])\n",
        "            \n",
        "            # norm pixel values to [-1, 1]\n",
        "            data.append(img_norm(img))\n",
        "            if augment == True:\n",
        "              data.append(np.fliplr(img_norm(img)))\n",
        "            if rotate_90 == True:\n",
        "              data.append(np.rot90(img_norm(img)))\n",
        "            \n",
        "    #\n",
        "    # Write your Data Augmentation code here\n",
        "    # mirroring\n",
        "    #\n",
        "            \n",
        "    #\n",
        "    # Write your Data Normalization code here\n",
        "    # norm data to zero-centered\n",
        "    #\n",
        "    \n",
        "    if zero_centered == True:\n",
        "      data = data - np.mean(data)\n",
        "     \n",
        "    # randomly permute (this step is important for training)\n",
        "    if shuffle:\n",
        "        bundle = list(zip(data, labels))\n",
        "        random.shuffle(bundle)\n",
        "        random.shuffle(bundle)\n",
        "        data, labels = zip(*bundle)\n",
        "    \n",
        "    # divide data into minibatches of TorchTensors\n",
        "    if batch_num > 1:\n",
        "        batch_data = []\n",
        "        batch_labels = []\n",
        "        \n",
        "        print(len(data))\n",
        "        print(batch_num)\n",
        "        \n",
        "        for i in range(int(len(data) / batch_num)):\n",
        "            minibatch_d = data[i*batch_num: (i+1)*batch_num]\n",
        "            minibatch_d = np.reshape(minibatch_d, (batch_num, channel_num, img_size[0], img_size[1]))\n",
        "            batch_data.append(torch.from_numpy(minibatch_d))\n",
        "\n",
        "            minibatch_l = labels[i*batch_num: (i+1)*batch_num]\n",
        "            batch_labels.append(torch.LongTensor(minibatch_l))\n",
        "        data, labels = batch_data, batch_labels \n",
        "    \n",
        "    return zip(batch_data, batch_labels)"
      ],
      "execution_count": 0,
      "outputs": [
        {
          "output_type": "stream",
          "text": [
            "class_names: {0: 'Forest', 1: 'Industrial', 2: 'Flower', 3: 'Coast', 4: 'InsideCity', 5: 'Office', 6: 'Bedroom', 7: 'Highway', 8: 'Street', 9: 'TallBuilding', 10: 'LivingRoom', 11: 'Suburb', 12: 'OpenCountry', 13: 'Mountain', 14: 'Kitchen', 15: 'Store'} \n"
          ],
          "name": "stdout"
        }
      ]
    },
    {
      "cell_type": "code",
      "metadata": {
        "id": "wHI2VYbDloje",
        "colab_type": "code",
        "outputId": "129a6f51-3845-44be-ed28-afa5a8e64802",
        "colab": {
          "base_uri": "https://localhost:8080/",
          "height": 663
        }
      },
      "source": [
        "# load data into size (64, 64)\n",
        "img_size = (64, 64)\n",
        "batch_num = 50 # training sample number per batch\n",
        "\n",
        "# load training dataset\n",
        "trainloader_small = list(load_dataset('/content/gdrive/My Drive/Y2019Fall/CSE-527-Intro-To-Computer-Vision/Paratkar_Shreyash_112673930_hw3/data/train/', img_size, batch_num=batch_num, shuffle=True, augment=False, zero_centered=False))\n",
        "train_num = len(trainloader_small)\n",
        "print(\"Finish loading %d minibatches(=%d) of training samples.\" % (train_num, batch_num))\n",
        "\n",
        "# load testing dataset\n",
        "testloader_small = list(load_dataset('/content/gdrive/My Drive/Y2019Fall/CSE-527-Intro-To-Computer-Vision/Paratkar_Shreyash_112673930_hw3/data/test/', img_size, num_per_class=50, batch_num=batch_num))\n",
        "test_num = len(testloader_small)\n",
        "print(\"Finish loading %d minibatches(=%d) of testing samples.\" % (test_num, batch_num))"
      ],
      "execution_count": 0,
      "outputs": [
        {
          "output_type": "stream",
          "text": [
            "Loading images from class: 0\n",
            "Loading images from class: 1\n",
            "Loading images from class: 2\n",
            "Loading images from class: 3\n",
            "Loading images from class: 4\n",
            "Loading images from class: 5\n",
            "Loading images from class: 6\n",
            "Loading images from class: 7\n",
            "Loading images from class: 8\n",
            "Loading images from class: 9\n",
            "Loading images from class: 10\n",
            "Loading images from class: 11\n",
            "Loading images from class: 12\n",
            "Loading images from class: 13\n",
            "Loading images from class: 14\n",
            "Loading images from class: 15\n",
            "2400\n",
            "50\n",
            "Finish loading 48 minibatches(=50) of training samples.\n",
            "Loading images from class: 0\n",
            "Loading images from class: 1\n",
            "Loading images from class: 2\n",
            "Loading images from class: 3\n",
            "Loading images from class: 4\n",
            "Loading images from class: 5\n",
            "Loading images from class: 6\n",
            "Loading images from class: 7\n",
            "Loading images from class: 8\n",
            "Loading images from class: 9\n",
            "Loading images from class: 10\n",
            "Loading images from class: 11\n",
            "Loading images from class: 12\n",
            "Loading images from class: 13\n",
            "Loading images from class: 14\n",
            "Loading images from class: 15\n",
            "400\n",
            "50\n",
            "Finish loading 8 minibatches(=50) of testing samples.\n"
          ],
          "name": "stdout"
        }
      ]
    },
    {
      "cell_type": "code",
      "metadata": {
        "id": "TXYx6YwV8EsB",
        "colab_type": "code",
        "colab": {}
      },
      "source": [
        "file = open('trainloader_small.pkl','wb')\n",
        "pickle.dump(trainloader_small, file)\n",
        "file.close()\n",
        "file = open('testloader_small.pkl','wb')\n",
        "pickle.dump(testloader_small, file)\n",
        "file.close()"
      ],
      "execution_count": 0,
      "outputs": []
    },
    {
      "cell_type": "code",
      "metadata": {
        "id": "IAQLyWvYAsDM",
        "colab_type": "code",
        "colab": {}
      },
      "source": [
        "# Reading from pickle files\n",
        "file = open('trainloader_small.pkl', 'rb')\n",
        "trainloader_small = pickle.load(file)\n",
        "file.close()\n",
        "file = open('testloader_small.pkl', 'rb')\n",
        "testloader_small = pickle.load(file)\n",
        "file.close()"
      ],
      "execution_count": 0,
      "outputs": []
    },
    {
      "cell_type": "code",
      "metadata": {
        "id": "8mUDV8A1AZwh",
        "colab_type": "code",
        "outputId": "6eea9202-0acd-45b4-f334-f619df9f3f06",
        "colab": {
          "base_uri": "https://localhost:8080/",
          "height": 34
        }
      },
      "source": [
        "type(trainloader_small[47][0][49])\n",
        "# trainloader_small[47][0][49].shape -- image torch {47th batch , 0 for selecting image, 49th image in batch of 50}\n",
        "# trainloader_small[47][1][49] -- label {47th batch , 1 for selecting label, 49th image in batch of 50}\n",
        "# trainloader_small[batch_index][img/label][50 images][0]\n",
        "# for i in range(48):\n",
        "#   print(trainloader_small[i][0].shape, trainloader_small[i][1].shape)"
      ],
      "execution_count": 0,
      "outputs": [
        {
          "output_type": "execute_result",
          "data": {
            "text/plain": [
              "torch.Tensor"
            ]
          },
          "metadata": {
            "tags": []
          },
          "execution_count": 11
        }
      ]
    },
    {
      "cell_type": "code",
      "metadata": {
        "id": "krCXjDOzlq0f",
        "colab_type": "code",
        "outputId": "ecd559e4-717a-42a0-8927-34c896c44057",
        "colab": {
          "base_uri": "https://localhost:8080/",
          "height": 285
        }
      },
      "source": [
        "# show some images\n",
        "def imshow(img):\n",
        "    img = img / 2 + 0.5     # unnormalize\n",
        "    npimg = img.numpy()\n",
        "    if len(npimg.shape) > 2:\n",
        "        npimg = np.transpose(img, [1, 2, 0])\n",
        "    plt.figure\n",
        "    plt.imshow(npimg, 'gray')\n",
        "    plt.show()\n",
        "img, label = trainloader_small[0][0][11][0], trainloader_small[0][1][11]\n",
        "label = int(np.array(label))\n",
        "print(class_names[label])\n",
        "imshow(img)"
      ],
      "execution_count": 0,
      "outputs": [
        {
          "output_type": "stream",
          "text": [
            "Store\n"
          ],
          "name": "stdout"
        },
        {
          "output_type": "display_data",
          "data": {
            "image/png": "[encoded data removed]",
            "text/plain": [
              "<Figure size 432x288 with 1 Axes>"
            ]
          },
          "metadata": {
            "tags": []
          }
        }
      ]
    },
    {
      "cell_type": "markdown",
      "metadata": {
        "id": "JGA-K6QzYYMR",
        "colab_type": "text"
      },
      "source": [
        "## Problem 1: Training a Network From Scratch\n",
        "{Part 1: 35 points} Gone are the days of hand designed features. Now we have end-to-end learning in which a highly non-linear representation is learned for our data to maximize our objective (in this case, 16-way classification accuracy). Instead of 70% accuracy we can now recognize scenes with... 25% accuracy. OK, that didn't work at all. Try to boost the accuracy by doing the following:\n",
        "\n",
        "**Data Augmentation**: We don't have enough training data, let's augment the training data.\n",
        "If you left-right flip (mirror) an image of a scene, it never changes categories. A kitchen doesn't become a forest when mirrored. This isn't true in all domains — a \"d\" becomes a \"b\" when mirrored, so you can't \"jitter\" digit recognition training data in the same way. But we can synthetically increase our amount of training data by left-right mirroring training images during the learning process.\n",
        "\n",
        "After you implement mirroring, you should notice that your training error doesn't drop as quickly. That's actually a good thing, because it means the network isn't overfitting to the 2,400 original training images as much (because it sees 4,800 training images now, although they're not as good as 4,800 truly independent samples). Because the training and test errors fall more slowly, you may need more training epochs or you may try modifying the learning rate. You should see a roughly 10% increase in accuracy by adding mirroring. You are **required** to implement mirroring as data augmentation for this part.\n",
        "\n",
        "You can try more elaborate forms of jittering -- zooming in a random amount, rotating a random amount, taking a random crop, etc. These are not required, you might want to try these in the bonus part.\n",
        "\n",
        "**Data Normalization**: The images aren't zero-centered. One simple trick which can help a lot is to subtract the mean from every image. It would arguably be more proper to only compute the mean from the training images (since the test/validation images should be strictly held out) but it won't make much of a difference. After doing this you should see another 15% or so increase in accuracy. This part is **required**.\n",
        "\n",
        "**Network Regularization**: Add dropout layer. If you train your network (especially for more than the default 30 epochs) you'll see that the training error can decrease to zero while the val top1 error hovers at 40% to 50%. The network has learned weights which can perfectly recognize the training data, but those weights don't generalize to held out test data. The best regularization would be more training data but we don't have that. Instead we will use dropout regularization.\n",
        "\n",
        "What does dropout regularization do? It randomly turns off network connections at training time to fight overfitting. This prevents a unit in one layer from relying too strongly on a single unit in the previous layer. Dropout regularization can be interpreted as simultaneously training many \"thinned\" versions of your network. At test, all connections are restored which is analogous to taking an average prediction over all of the \"thinned\" networks. You can see a more complete discussion of dropout regularization in this [paper](https://www.cs.toronto.edu/~hinton/absps/JMLRdropout.pdf).\n",
        "\n",
        "The dropout layer has only one free parameter — the dropout rate — the proportion of connections that are randomly deleted. The default of 0.5 should be fine. Insert a dropout layer between your convolutional layers. In particular, insert it directly before your last convolutional layer. Your test accuracy should increase by another 10%. Your train accuracy should decrease much more slowly. That's to be expected — you're making life much harder for the training algorithm by cutting out connections randomly. \n",
        "\n",
        "If you increase the number of training epochs (and maybe decrease the learning rate) you should be able to achieve around 50% test accuracy. In this part, you are **required** to add dropout layer to your network.\n",
        "\n",
        "Please give detailed descriptions of your network layout in the following format:<br>\n",
        "Data augmentation: [descriptions]<br>\n",
        "Data normalization: [descriptions]<br>\n",
        "Layer 1: [layer_type]: [Parameters]<br>\n",
        "Layer 2: [layer_type]: [Parameters]<br>\n",
        "...<br>\n",
        "Then report the final accuracy on test set and time consumed for training and testing separately.\n",
        "\n",
        "{Part 2: 15 points} Try **three techniques** taught in the class to increase the accuracy of your model. Such as increasing training data by randomly rotating training images, adding batch normalization, different activation functions (e.g., sigmoid) and model architecture modification. Note that too many layers can do you no good due to insufficient training data. Clearly describe your method and accuracy increase/decrease for each of the three techniques."
      ]
    },
    {
      "cell_type": "code",
      "metadata": {
        "id": "clXaGdwaoIL7",
        "colab_type": "code",
        "colab": {}
      },
      "source": [
        "# ==========================================\n",
        "#       Define Network Architecture\n",
        "# ==========================================\n",
        "class Net(Module):   \n",
        "    def __init__(self):\n",
        "        super(Net, self).__init__()\n",
        "\n",
        "        self.cnn_layers = Sequential(\n",
        "            Conv2d(1, 32, kernel_size=5, stride=1, padding=2),\n",
        "            ReLU(),\n",
        "            MaxPool2d(kernel_size=2, stride=2),\n",
        "            Conv2d(32, 64, kernel_size=5, stride=1, padding=2),\n",
        "            ReLU(),\n",
        "            MaxPool2d(kernel_size=2, stride=2),\n",
        "        )\n",
        "        self.linear_layers = Sequential(\n",
        "            Linear(64 * 16 * 16, 1000),\n",
        "            Linear(1000, 16)\n",
        "        )\n",
        "    def forward(self, x):\n",
        "        x = self.cnn_layers(x)\n",
        "        x = x.view(x.size(0), -1)\n",
        "        x = self.linear_layers(x)\n",
        "        return x\n",
        "\n",
        "class Net_Dropout(Module):   \n",
        "    def __init__(self):\n",
        "        super(Net_Dropout, self).__init__()\n",
        "        self.layer1 = nn.Sequential(\n",
        "            nn.Conv2d(1, 32, kernel_size=5, stride=1, padding=2),\n",
        "            nn.ReLU(),\n",
        "            nn.MaxPool2d(kernel_size=2, stride=2))\n",
        "        self.layer2 = nn.Sequential(\n",
        "            nn.Conv2d(32, 64, kernel_size=5, stride=1, padding=2),\n",
        "            nn.ReLU(),\n",
        "            nn.MaxPool2d(kernel_size=2, stride=2))\n",
        "        self.drop_out = nn.Dropout(p=0.5)\n",
        "        self.fc1 = nn.Linear(16 * 16 * 64, 1000)\n",
        "        self.fc2 = nn.Linear(1000, 16)\n",
        "\n",
        "    def forward(self, x):\n",
        "      out = self.layer1(x)\n",
        "      out = self.drop_out(out)\n",
        "      out = self.layer2(out)\n",
        "      out = out.reshape(out.size(0), -1)\n",
        "      out = self.fc1(out)\n",
        "      out = self.fc2(out)\n",
        "      return out\n",
        "\n",
        "class Net_Enhance1(Module):   \n",
        "    def __init__(self):\n",
        "        super(Net_Enhance1, self).__init__()\n",
        "        self.layer1 = nn.Sequential(\n",
        "            nn.Conv2d(1, 32, kernel_size=5, stride=1, padding=2),\n",
        "            BatchNorm2d(32),\n",
        "            nn.ReLU(),\n",
        "            nn.MaxPool2d(kernel_size=2, stride=2))\n",
        "        self.layer2 = nn.Sequential(\n",
        "            nn.Conv2d(32, 64, kernel_size=5, stride=1, padding=2),\n",
        "            BatchNorm2d(64),\n",
        "            nn.ReLU(),\n",
        "            nn.MaxPool2d(kernel_size=2, stride=2))\n",
        "        self.drop_out = nn.Dropout(p=0.5)\n",
        "        self.fc1 = nn.Linear(16 * 16 * 64, 1000)\n",
        "        self.fc2 = nn.Linear(1000, 16)\n",
        "\n",
        "    def forward(self, x):\n",
        "      out = self.layer1(x)\n",
        "      out = self.drop_out(out)\n",
        "      out = self.layer2(out)\n",
        "      out = out.reshape(out.size(0), -1)\n",
        "      out = self.fc1(out)\n",
        "      out = self.fc2(out)\n",
        "      return out\n",
        "\n",
        "class Net_Enhance2(Module):   \n",
        "    def __init__(self):\n",
        "        super(Net_Enhance2, self).__init__()\n",
        "        self.layer1 = nn.Sequential(\n",
        "            nn.Conv2d(1, 32, kernel_size=5, stride=1, padding=2),\n",
        "            nn.Sigmoid(),\n",
        "            nn.MaxPool2d(kernel_size=2, stride=2))\n",
        "        self.layer2 = nn.Sequential(\n",
        "            nn.Conv2d(32, 64, kernel_size=5, stride=1, padding=2),\n",
        "            nn.Sigmoid(),\n",
        "            nn.MaxPool2d(kernel_size=2, stride=2))\n",
        "        self.drop_out = nn.Dropout(p=0.5)\n",
        "        self.fc1 = nn.Linear(16 * 16 * 64, 1000)\n",
        "        self.fc2 = nn.Linear(1000, 16)\n",
        "\n",
        "    def forward(self, x):\n",
        "      out = self.layer1(x)\n",
        "      out = self.drop_out(out)\n",
        "      out = self.layer2(out)\n",
        "      out = out.reshape(out.size(0), -1)\n",
        "      out = self.fc1(out)\n",
        "      out = self.fc2(out)\n",
        "      return out\n",
        "\n",
        "def train(epoch, training_set, device, model, optimizer, criterion):\n",
        "    for i in range(len(training_set)):\n",
        "      x_train, y_train = Variable(training_set[i][0]).cuda(device), Variable(training_set[i][1]).cuda(device)\n",
        "      output_train = model(x_train)\n",
        "      loss_train = criterion(output_train, y_train)\n",
        "      optimizer.zero_grad()\n",
        "      loss_train.backward()\n",
        "      optimizer.step()\n",
        "\n",
        "def test(training_set, device, model):\n",
        "  with torch.no_grad():\n",
        "    total = 0\n",
        "    correct = 0\n",
        "    for i in range(8):\n",
        "      outputs = model(Variable(training_set[i][0]).cuda(device))\n",
        "      _, predicted = torch.max(outputs.data, 1)\n",
        "      total += training_set[i][1].size(0)\n",
        "      correct += (predicted == training_set[i][1].cuda(device)).sum().item()\n",
        "    print('Test Accuracy of the model on test images: {} %'.format((correct / total) * 100))"
      ],
      "execution_count": 0,
      "outputs": []
    },
    {
      "cell_type": "code",
      "metadata": {
        "id": "Aai12xQkxOmS",
        "colab_type": "code",
        "outputId": "849174ce-254c-4318-8485-e6a7886464cf",
        "colab": {
          "base_uri": "https://localhost:8080/",
          "height": 68
        }
      },
      "source": [
        "device = torch.device('cuda:0' if torch.cuda.is_available() else 'cpu')\n",
        "model = Net()\n",
        "model.cuda(device)\n",
        "optimizer = Adam(model.parameters(), lr=0.001)\n",
        "criterion = CrossEntropyLoss()\n",
        "n_epochs = 5\n",
        "start_time = time.time()\n",
        "for epoch in range(n_epochs):\n",
        "    train(epoch, trainloader_small, device, model, optimizer, criterion)\n",
        "print(\"Time taken for training: \", round(time.time() - start_time), \"seconds\")\n",
        "start_time = time.time()\n",
        "test(testloader_small, device, model)\n",
        "print(\"Time taken for testing: \", round(time.time() - start_time), \"seconds\")"
      ],
      "execution_count": 0,
      "outputs": [
        {
          "output_type": "stream",
          "text": [
            "Time taken for training:  2 seconds\n",
            "Test Accuracy of the model on test images: 24.5 %\n",
            "Time taken for testing:  0 seconds\n"
          ],
          "name": "stdout"
        }
      ]
    },
    {
      "cell_type": "markdown",
      "metadata": {
        "id": "osR6TQxa-CBk",
        "colab_type": "text"
      },
      "source": [
        "Test Accuracy acheived with the basic architecture and training size of **2400** images = **24.5%**"
      ]
    },
    {
      "cell_type": "code",
      "metadata": {
        "id": "sNJTDG8xoJwH",
        "colab_type": "code",
        "outputId": "46b1c4a4-9e93-4070-e8d0-fec23fea86bf",
        "colab": {
          "base_uri": "https://localhost:8080/",
          "height": 340
        }
      },
      "source": [
        "# ==========================================\n",
        "#         Optimize/Train Network\n",
        "# ==========================================\n",
        "trainloader_small_augmented = list(load_dataset('/content/gdrive/My Drive/Y2019Fall/CSE-527-Intro-To-Computer-Vision/Paratkar_Shreyash_112673930_hw3/data/train/', img_size, batch_num=batch_num, shuffle=True, augment=True, zero_centered=False))\n",
        "train_num_augmented = len(trainloader_small_augmented)\n",
        "print(\"Finish loading %d minibatches(=%d) of training samples.\" % (train_num_augmented, batch_num))\n",
        "file = open('trainloader_small_augmented.pkl','wb')\n",
        "pickle.dump(trainloader_small_augmented, file)\n",
        "file.close()"
      ],
      "execution_count": 0,
      "outputs": [
        {
          "output_type": "stream",
          "text": [
            "Loading images from class: 0\n",
            "Loading images from class: 1\n",
            "Loading images from class: 2\n",
            "Loading images from class: 3\n",
            "Loading images from class: 4\n",
            "Loading images from class: 5\n",
            "Loading images from class: 6\n",
            "Loading images from class: 7\n",
            "Loading images from class: 8\n",
            "Loading images from class: 9\n",
            "Loading images from class: 10\n",
            "Loading images from class: 11\n",
            "Loading images from class: 12\n",
            "Loading images from class: 13\n",
            "Loading images from class: 14\n",
            "Loading images from class: 15\n",
            "4800\n",
            "50\n",
            "Finish loading 96 minibatches(=50) of training samples.\n"
          ],
          "name": "stdout"
        }
      ]
    },
    {
      "cell_type": "markdown",
      "metadata": {
        "id": "s_wUl6YW-rDy",
        "colab_type": "text"
      },
      "source": [
        "Data Augmented to contain **2400** more images which are the mirrored/laterally inverted versions of the original **2400** images, thereby giving us a final images set of **4800**."
      ]
    },
    {
      "cell_type": "code",
      "metadata": {
        "id": "ujEGuFkRrvE5",
        "colab_type": "code",
        "colab": {}
      },
      "source": [
        "file = open('trainloader_small_augmented.pkl', 'rb')\n",
        "trainloader_small_augmented = pickle.load(file)\n",
        "file.close()"
      ],
      "execution_count": 0,
      "outputs": []
    },
    {
      "cell_type": "code",
      "metadata": {
        "id": "yTDIPkZCrAL0",
        "colab_type": "code",
        "outputId": "6227dfb9-b257-4369-a25f-5dab9a144208",
        "colab": {
          "base_uri": "https://localhost:8080/",
          "height": 68
        }
      },
      "source": [
        "device = torch.device('cuda:0' if torch.cuda.is_available() else 'cpu')\n",
        "model = Net()\n",
        "model.cuda(device)\n",
        "optimizer = Adam(model.parameters(), lr=0.001)\n",
        "criterion = CrossEntropyLoss()\n",
        "start_time = time.time()\n",
        "for epoch in range(n_epochs):\n",
        "    train(epoch, trainloader_small_augmented, device, model, optimizer, criterion)\n",
        "print(\"Time taken for training: \", round(time.time() - start_time), \"seconds\")\n",
        "start_time = time.time()\n",
        "test(testloader_small, device, model)\n",
        "print(\"Time taken for testing: \", round(time.time() - start_time), \"seconds\")"
      ],
      "execution_count": 0,
      "outputs": [
        {
          "output_type": "stream",
          "text": [
            "Time taken for training:  5 seconds\n",
            "Test Accuracy of the model on test images: 34.25 %\n",
            "Time taken for testing:  0 seconds\n"
          ],
          "name": "stdout"
        }
      ]
    },
    {
      "cell_type": "markdown",
      "metadata": {
        "id": "MD3UZcEo_FF_",
        "colab_type": "text"
      },
      "source": [
        "The accuracy obtained after **Data Augmentation** = **34.25%**"
      ]
    },
    {
      "cell_type": "code",
      "metadata": {
        "id": "B3zLqK3tC5Pw",
        "colab_type": "code",
        "outputId": "3e4c9792-aa1c-4ab7-b44c-7c53eaeec617",
        "colab": {
          "base_uri": "https://localhost:8080/",
          "height": 340
        }
      },
      "source": [
        "trainloader_small_augmented_normalized = list(load_dataset('/content/gdrive/My Drive/Y2019Fall/CSE-527-Intro-To-Computer-Vision/Paratkar_Shreyash_112673930_hw3/data/train/', img_size, batch_num=batch_num, shuffle=True, augment=True, zero_centered=True))\n",
        "train_num_augmented_normalized = len(trainloader_small_augmented_normalized)\n",
        "print(\"Finish loading %d minibatches(=%d) of training samples.\" % (train_num_augmented_normalized, batch_num))\n",
        "file = open('trainloader_small_augmented_normalized.pkl','wb')\n",
        "pickle.dump(trainloader_small_augmented_normalized, file)\n",
        "file.close()"
      ],
      "execution_count": 0,
      "outputs": [
        {
          "output_type": "stream",
          "text": [
            "Loading images from class: 0\n",
            "Loading images from class: 1\n",
            "Loading images from class: 2\n",
            "Loading images from class: 3\n",
            "Loading images from class: 4\n",
            "Loading images from class: 5\n",
            "Loading images from class: 6\n",
            "Loading images from class: 7\n",
            "Loading images from class: 8\n",
            "Loading images from class: 9\n",
            "Loading images from class: 10\n",
            "Loading images from class: 11\n",
            "Loading images from class: 12\n",
            "Loading images from class: 13\n",
            "Loading images from class: 14\n",
            "Loading images from class: 15\n",
            "4800\n",
            "50\n",
            "Finish loading 96 minibatches(=50) of training samples.\n"
          ],
          "name": "stdout"
        }
      ]
    },
    {
      "cell_type": "markdown",
      "metadata": {
        "id": "X6a88Bsy_ShL",
        "colab_type": "text"
      },
      "source": [
        "Images are **zero-centered** by subtracting each pixel of each image by the mean of all the pixels in the dataset."
      ]
    },
    {
      "cell_type": "code",
      "metadata": {
        "id": "8rSTzHp2DOLX",
        "colab_type": "code",
        "colab": {}
      },
      "source": [
        "file = open('trainloader_small_augmented_normalized.pkl', 'rb')\n",
        "trainloader_small_augmented_normalized = pickle.load(file)\n",
        "file.close()"
      ],
      "execution_count": 0,
      "outputs": []
    },
    {
      "cell_type": "code",
      "metadata": {
        "id": "69wjT7FfDS6n",
        "colab_type": "code",
        "outputId": "f9099a3f-ab94-4016-fe3b-5b9074b448f5",
        "colab": {
          "base_uri": "https://localhost:8080/",
          "height": 68
        }
      },
      "source": [
        "device = torch.device('cuda:0' if torch.cuda.is_available() else 'cpu')\n",
        "model = Net()\n",
        "model.cuda(device)\n",
        "optimizer = Adam(model.parameters(), lr=0.001)\n",
        "criterion = CrossEntropyLoss()\n",
        "start_time = time.time()\n",
        "for epoch in range(n_epochs):\n",
        "    train(epoch, trainloader_small_augmented_normalized, device, model, optimizer, criterion)\n",
        "print(\"Time taken for training: \", round(time.time() - start_time), \"seconds\")\n",
        "start_time = time.time()\n",
        "test(testloader_small, device, model)\n",
        "print(\"Time taken for testing: \", round(time.time() - start_time), \"seconds\")"
      ],
      "execution_count": 0,
      "outputs": [
        {
          "output_type": "stream",
          "text": [
            "Time taken for training:  5 seconds\n",
            "Test Accuracy of the model on test images: 41.25 %\n",
            "Time taken for testing:  0 seconds\n"
          ],
          "name": "stdout"
        }
      ]
    },
    {
      "cell_type": "markdown",
      "metadata": {
        "id": "m9GL9P9m_fwE",
        "colab_type": "text"
      },
      "source": [
        "Model accuracy after **Data Normalization** = **41.25%**"
      ]
    },
    {
      "cell_type": "code",
      "metadata": {
        "id": "AHUDUVdURxaj",
        "colab_type": "code",
        "outputId": "1e7dd7df-3541-4987-a2b1-6c5c1761d6b4",
        "colab": {
          "base_uri": "https://localhost:8080/",
          "height": 68
        }
      },
      "source": [
        "model = Net_Dropout()\n",
        "model.cuda(device)\n",
        "optimizer = Adam(model.parameters(), lr=0.001)\n",
        "criterion = CrossEntropyLoss()\n",
        "start_time = time.time()\n",
        "for epoch in range(20):\n",
        "    train(epoch, trainloader_small_augmented_normalized, device, model, optimizer, criterion)\n",
        "print(\"Time taken for training: \", round(time.time() - start_time), \"seconds\")\n",
        "start_time = time.time()\n",
        "test(testloader_small, device, model)\n",
        "print(\"Time taken for testing: \", round(time.time() - start_time), \"seconds\")"
      ],
      "execution_count": 0,
      "outputs": [
        {
          "output_type": "stream",
          "text": [
            "Time taken for training:  19 seconds\n",
            "Test Accuracy of the model on test images: 47.0 %\n",
            "Time taken for testing:  0 seconds\n"
          ],
          "name": "stdout"
        }
      ]
    },
    {
      "cell_type": "markdown",
      "metadata": {
        "id": "uqzQr5vh_wLc",
        "colab_type": "text"
      },
      "source": [
        "A dropout layer is added before the 2nd convolutional layer, with a default droupout rate of **0.5**. Accuracy obtained after adding dropout = **47%**"
      ]
    },
    {
      "cell_type": "markdown",
      "metadata": {
        "id": "pQm0hVo4Bh7y",
        "colab_type": "text"
      },
      "source": [
        "**Data augmentation:** To increase the accuracy of the convolutional neural network, we augment the training dataset with the laterally inverted variants of the same original images, since the labels for these images would remain the same even if the orientation changes.\n",
        "\n",
        "This augmentation gives us an accuracy of **34.25%**, which is a development on the original **24.5%**.\n",
        "\n",
        "The time taken for training is 5 seconds while the testing gets completed in ~0 seconds.\n",
        "\n",
        "**Data normalization:** To zero-center te images, the mean of the whole dataset's images, is subtracted from all the images, as the normalization step. This gives our model an accuracy of **41.25%** and takes about the same time for training and testing as the previous method, i.e. 5 seconds and ~0 seconds respectively.\n",
        "\n",
        "The convolutional neural network defined for the basic test, data augmentation and data normalization involved the following layers.\n",
        "\n",
        "**Layer 1:** Sequential layer: Consists of convolution + ReLU + pooling sequences.\n",
        "\n",
        "i.) Conv2d nn.Module creates a set of convolutional filters : [1 input channel( grayscale image), 32 channels for first convolutional filter layer, kernel_size = 5, stride = 1, padding = 2]\n",
        "\n",
        "ii.) A simple ReLU activation. \n",
        "\n",
        "iii.) Max pooling operation, pooling size = 2. To downsample by size of 2, we set the stride = 2 and padding = 0 -> 32 channels of 32 x 32 “images”.\n",
        "\n",
        "**Layer 2:** Sequential layer: Consists of convolution + ReLU + pooling sequences.\n",
        "\n",
        "i.) Conv2d nn.Module creates a set of convolutional filters : [32 input channel, 64 channels for second convolutional filter layer, kernel_size = 5, stride = 1, padding = 2]\n",
        "\n",
        "ii.) A simple ReLU activation. \n",
        "\n",
        "iii.) Max pooling operation, pooling size = 2. To downsample by size of 2, we set the stride = 2 and padding = 0 -> 32 channels of 16 x 16 “images”.\n",
        "\n",
        "**Layer 3:** Fully Connected Layer: The first layer will be of size 16 x 16 x 64 nodes.\n",
        "\n",
        "**Layer 4:** Fully Connected Layer: first layer will connect to the second layer of 1000 nodes.\n",
        "\n",
        "**Layer 1.5**: Dropout Layer: A dropout layer is inserted as mentioned in the question before the second convolutional layer.\n",
        "\n",
        "The basic CNN gives an accuracy of **24.5%** with training time of **5** seconds.\n",
        "\n",
        "The CNN implemented **with dropout** gives a testing accuracy of **47%** with training time of **19** seconds with **20 epochs**.\n",
        "\n",
        "All the test accuracy values measured fluctuate above and below the above shown values."
      ]
    },
    {
      "cell_type": "code",
      "metadata": {
        "id": "m5sadf8qoOW6",
        "colab_type": "code",
        "outputId": "043afa3f-dd51-47b6-ce45-457a78b286b2",
        "colab": {
          "base_uri": "https://localhost:8080/",
          "height": 68
        }
      },
      "source": [
        "# ==========================================\n",
        "#            Evaluating Network\n",
        "# ==========================================\n",
        "model = Net_Enhance1()\n",
        "model.cuda(device)\n",
        "optimizer = Adam(model.parameters(), lr=0.001)\n",
        "criterion = CrossEntropyLoss()\n",
        "start_time = time.time()\n",
        "for epoch in range(n_epochs):\n",
        "    train(epoch, trainloader_small_augmented_normalized, device, model, optimizer, criterion)\n",
        "print(\"Time taken for training: \", round(time.time() - start_time), \"seconds\")\n",
        "start_time = time.time()\n",
        "test(testloader_small, device, model)\n",
        "print(\"Time taken for testing: \", round(time.time() - start_time), \"seconds\")"
      ],
      "execution_count": 0,
      "outputs": [
        {
          "output_type": "stream",
          "text": [
            "Time taken for training:  5 seconds\n",
            "Test Accuracy of the model on test images: 32.5 %\n",
            "Time taken for testing:  0 seconds\n"
          ],
          "name": "stdout"
        }
      ]
    },
    {
      "cell_type": "code",
      "metadata": {
        "id": "1AZacqwcigUU",
        "colab_type": "code",
        "outputId": "c42f6151-60e4-4cc3-f6fa-5181c3e6c37d",
        "colab": {
          "base_uri": "https://localhost:8080/",
          "height": 68
        }
      },
      "source": [
        "model = Net_Enhance2()\n",
        "model.cuda(device)\n",
        "optimizer = Adam(model.parameters(), lr=0.001)\n",
        "criterion = CrossEntropyLoss()\n",
        "start_time = time.time()\n",
        "for epoch in range(n_epochs):\n",
        "    train(epoch, trainloader_small_augmented_normalized, device, model, optimizer, criterion)\n",
        "print(\"Time taken for training: \", round(time.time() - start_time), \"seconds\")\n",
        "start_time = time.time()\n",
        "test(testloader_small, device, model)\n",
        "print(\"Time taken for testing: \", round(time.time() - start_time), \"seconds\")"
      ],
      "execution_count": 0,
      "outputs": [
        {
          "output_type": "stream",
          "text": [
            "Time taken for training:  5 seconds\n",
            "Test Accuracy of the model on test images: 25.25 %\n",
            "Time taken for testing:  0 seconds\n"
          ],
          "name": "stdout"
        }
      ]
    },
    {
      "cell_type": "code",
      "metadata": {
        "id": "U9YaM6l3lBwN",
        "colab_type": "code",
        "outputId": "c6c2fb8e-9759-4641-e874-da0eea7905d9",
        "colab": {
          "base_uri": "https://localhost:8080/",
          "height": 340
        }
      },
      "source": [
        "img_size = (64, 64)\n",
        "batch_num = 50\n",
        "trainloader_small_augmented_normalized_rotated = list(load_dataset('/content/gdrive/My Drive/Y2019Fall/CSE-527-Intro-To-Computer-Vision/Paratkar_Shreyash_112673930_hw3/data/train/', img_size, batch_num=batch_num, shuffle=True, augment=True, zero_centered=True, rotate_90= True))\n",
        "train_num_small_augmented_normalized_rotated = len(trainloader_small_augmented_normalized_rotated)\n",
        "print(\"Finish loading %d minibatches(=%d) of training samples.\" % (train_num_small_augmented_normalized_rotated, batch_num))\n",
        "file = open('trainloader_small_augmented_normalized_rotated.pkl','wb')\n",
        "pickle.dump(trainloader_small_augmented_normalized_rotated, file)\n",
        "file.close()"
      ],
      "execution_count": 0,
      "outputs": [
        {
          "output_type": "stream",
          "text": [
            "Loading images from class: 0\n",
            "Loading images from class: 1\n",
            "Loading images from class: 2\n",
            "Loading images from class: 3\n",
            "Loading images from class: 4\n",
            "Loading images from class: 5\n",
            "Loading images from class: 6\n",
            "Loading images from class: 7\n",
            "Loading images from class: 8\n",
            "Loading images from class: 9\n",
            "Loading images from class: 10\n",
            "Loading images from class: 11\n",
            "Loading images from class: 12\n",
            "Loading images from class: 13\n",
            "Loading images from class: 14\n",
            "Loading images from class: 15\n",
            "7200\n",
            "50\n",
            "Finish loading 144 minibatches(=50) of training samples.\n"
          ],
          "name": "stdout"
        }
      ]
    },
    {
      "cell_type": "code",
      "metadata": {
        "id": "bctW90hppC4c",
        "colab_type": "code",
        "colab": {}
      },
      "source": [
        "file = open('trainloader_small_augmented_normalized_rotated.pkl', 'rb')\n",
        "trainloader_small_augmented_normalized_rotated = pickle.load(file)\n",
        "file.close()"
      ],
      "execution_count": 0,
      "outputs": []
    },
    {
      "cell_type": "code",
      "metadata": {
        "id": "ykM1WEgYod-P",
        "colab_type": "code",
        "outputId": "66ab2b31-fa6e-4df3-fa82-8c3736910018",
        "colab": {
          "base_uri": "https://localhost:8080/",
          "height": 68
        }
      },
      "source": [
        "model = Net_Dropout()\n",
        "model.cuda(device)\n",
        "optimizer = Adam(model.parameters(), lr=0.001)\n",
        "criterion = CrossEntropyLoss()\n",
        "start_time = time.time()\n",
        "for epoch in range(20):\n",
        "    train(epoch, trainloader_small_augmented_normalized_rotated, device, model, optimizer, criterion)\n",
        "print(\"Time taken for training: \", round(time.time() - start_time), \"seconds\")\n",
        "start_time = time.time()\n",
        "test(testloader_small, device, model)\n",
        "print(\"Time taken for testing: \", round(time.time() - start_time), \"seconds\")"
      ],
      "execution_count": 0,
      "outputs": [
        {
          "output_type": "stream",
          "text": [
            "Time taken for training:  28 seconds\n",
            "Test Accuracy of the model on test images: 48.75 %\n",
            "Time taken for testing:  0 seconds\n"
          ],
          "name": "stdout"
        }
      ]
    },
    {
      "cell_type": "markdown",
      "metadata": {
        "id": "SoOkboXbqsDW",
        "colab_type": "text"
      },
      "source": [
        "Three different techniques were tried to increase the accuracy of the baseline model which is trained for 3 epochs.\n",
        "\n",
        "The first two techniques were passed augmented and normalized input sets of 4800 images.\n",
        "\n",
        "1.) **Adding Batch Normalization**: A batch normalization element was added to the sequential layers of the basic CNN constructed. It was added twice after each of the convolution elements of the repective layers and was passed the number of output channels of the convolution elements as input (32 and 64 respectively).\n",
        "\n",
        "This resulted in a test accuracy of **32.5%**, which is a decrease as compared to the **24.5%** obtained by the original network. Time taken for training: **5** seconds.\n",
        "\n",
        "2.) **Using sigmoid activation function instead of ReLU**: Using the sigmoid activation function instead of ReLU gave a **0.75%** increase in test accuracy over the one obtained by using ReLU.\n",
        "\n",
        "Test accuracy with sigmoid activation function = **25.25%**. Time taken for training: **5** seconds.\n",
        "\n",
        "3.) For the third attempt at increasing accuracy, the previously increased training dataset of 4800 images was further augmented to contain 2400 more images which are the original images rotated by 90 degrees each.\n",
        "\n",
        "This resulted in an increase of **24.25%** in test accuracy over the original model.\n",
        "\n",
        "Test accuracy with sigmoid activation function = **48.75%**. Because the training data size is tripled, the training time required with 20 epochs is **28** seconds."
      ]
    },
    {
      "cell_type": "markdown",
      "metadata": {
        "id": "_UCpPu2JXD7C",
        "colab_type": "text"
      },
      "source": [
        "Resource referred:\n",
        "\n",
        "1.) https://www.analyticsvidhya.com/blog/2019/10/building-image-classification-models-cnn-pytorch/\n",
        "\n",
        "2.) https://adventuresinmachinelearning.com/convolutional-neural-networks-tutorial-in-pytorch/"
      ]
    },
    {
      "cell_type": "markdown",
      "metadata": {
        "collapsed": true,
        "id": "nBHKIxzAYYM2",
        "colab_type": "text"
      },
      "source": [
        "## Problem 2: Fine Tuning a Pre-Trained Deep Network\n",
        "{Part 1: 30 points} Our convolutional network to this point isn't \"deep\". Fortunately, the representations learned by deep convolutional networks is that they generalize surprisingly well to other recognition tasks. \n",
        "\n",
        "But how do we use an existing deep network for a new recognition task? Take for instance,  [AlexNet](http://papers.nips.cc/paper/4824-imagenet-classification-with-deep-convolutional-neural-networks) network has 1000 units in the final layer corresponding to 1000 ImageNet categories.\n",
        "\n",
        "**Strategy A**: One could use those 1000 activations as a feature in place of a hand crafted feature such as a bag-of-features representation. You would train a classifier (typically a linear SVM) in that 1000 dimensional feature space. However, those activations are clearly very object specific and may not generalize well to new recognition tasks. It is generally better to use the activations in slightly earlier layers of the network, e.g. the 4096 activations in the last 2nd fully-connected layer. You can often get away with sub-sampling those 4096 activations considerably, e.g. taking only the first 200 activations. \n",
        "\n",
        "**Strategy B**: *Fine-tune* an existing network. In this scenario you take an existing network, replace the final layer (or more) with random weights, and train the entire network again with images and ground truth labels for your recognition task. You are effectively treating the pre-trained deep network as a better initialization than the random weights used when training from scratch. When you don't have enough training data to train a complex network from scratch (e.g. with the 16 classes) this is an attractive option. Fine-tuning can work far better than Strategy A of taking the activations directly from an pre-trained CNN. For example, in [this paper](http://www.cc.gatech.edu/~hays/papers/deep_geo.pdf) from CVPR 2015, there wasn't enough data to train a deep network from scratch, but fine tuning led to 4 times higher accuracy than using off-the-shelf networks directly.\n",
        "\n",
        "You are required to implement **Strategy B** to fine-tune a pre-trained **AlexNet** for this scene classification task. You should be able to achieve performance of 85% approximately. It takes roughly 35~40 minutes to train 20 epoches with AlexNet.\n",
        "\n",
        "Please provide detailed descriptions of:<br>\n",
        "(1) which layers of AlexNet have been replaced<br>\n",
        "(2) the architecture of the new layers added including activation methods (same as problem 1)<br>\n",
        "(3) the final accuracy on test set along with time consumption for both training and testing <br>\n",
        "\n",
        "{Part 2: 20 points} Implement Strategy A where you use the activations of the pre-trained network as features to train one-vs-all SVMs for your scene classification task. Report the final accuracy on test set along with time consumption for both training and testing.\n",
        "\n",
        "{Bonus: 10 points} Bonus will be given to those who fine-tune the [VGG network](https://pytorch.org/docs/stable/_modules/torchvision/models/vgg.html) [paper](https://arxiv.org/pdf/1409.1556.pdf) and compare performance with AlexNet. Explain why VGG performed better or worse.\n",
        "\n",
        "**Hints**:\n",
        "- Many pre-trained models are available in PyTorch at [here](http://pytorch.org/docs/master/torchvision/models.html).\n",
        "- For fine-tuning pretrained network using PyTorch, please read this [tutorial](http://pytorch.org/tutorials/beginner/transfer_learning_tutorial.html)."
      ]
    },
    {
      "cell_type": "code",
      "metadata": {
        "id": "VLG3WtEmYYM3",
        "colab_type": "code",
        "colab": {}
      },
      "source": [
        "# reload data with a larger size\n",
        "img_size = (224, 224)\n",
        "batch_num = 50 # training sample number per batch \n",
        "\n",
        "# load training dataset\n",
        "trainloader_large = list(load_dataset('/content/gdrive/My Drive/Y2019Fall/CSE-527-Intro-To-Computer-Vision/Paratkar_Shreyash_112673930_hw3/data/train/', img_size, batch_num=batch_num, shuffle=True, augment=False, is_color=True, zero_centered=True))\n",
        "file = open('trainloader_large.pkl','wb')\n",
        "pickle.dump(trainloader_large, file)\n",
        "file.close()\n",
        "train_num = len(trainloader_large)\n",
        "print(\"Finish loading %d minibatches(=%d) of training samples.\" % (train_num, batch_num))\n",
        "\n",
        "# load testing dataset\n",
        "testloader_large = list(load_dataset('/content/gdrive/My Drive/Y2019Fall/CSE-527-Intro-To-Computer-Vision/Paratkar_Shreyash_112673930_hw3/data/test/', img_size, num_per_class=50, batch_num=batch_num, is_color=True))\n",
        "file = open('testloader_large.pkl','wb')\n",
        "pickle.dump(testloader_large, file)\n",
        "file.close()\n",
        "test_num = len(testloader_large)\n",
        "print(\"Finish loading %d minibatches(=%d) of testing samples.\" % (test_num, batch_num))"
      ],
      "execution_count": 0,
      "outputs": []
    },
    {
      "cell_type": "code",
      "metadata": {
        "id": "btOal_ampEnm",
        "colab_type": "code",
        "colab": {}
      },
      "source": [
        "# ==========================================\n",
        "#       Fine-Tune Pretrained Network\n",
        "# ==========================================\n",
        "file = open('trainloader_large.pkl', 'rb')\n",
        "trainloader_large = pickle.load(file)\n",
        "file.close()\n",
        "file = open('testloader_large.pkl', 'rb')\n",
        "testloader_large = pickle.load(file)\n",
        "file.close()"
      ],
      "execution_count": 0,
      "outputs": []
    },
    {
      "cell_type": "code",
      "metadata": {
        "id": "ZrwjvUenZTtC",
        "colab_type": "code",
        "outputId": "55c8345c-7708-409e-bf2e-5e2ab167519c",
        "colab": {
          "base_uri": "https://localhost:8080/",
          "height": 476
        }
      },
      "source": [
        "alexnet = models.alexnet(pretrained=True)\n",
        "alexnet.classifier[6] = Linear(in_features=4096, out_features=16, bias=True)\n",
        "alexnet"
      ],
      "execution_count": 0,
      "outputs": [
        {
          "output_type": "execute_result",
          "data": {
            "text/plain": [
              "AlexNet(\n",
              "  (features): Sequential(\n",
              "    (0): Conv2d(3, 64, kernel_size=(11, 11), stride=(4, 4), padding=(2, 2))\n",
              "    (1): ReLU(inplace=True)\n",
              "    (2): MaxPool2d(kernel_size=3, stride=2, padding=0, dilation=1, ceil_mode=False)\n",
              "    (3): Conv2d(64, 192, kernel_size=(5, 5), stride=(1, 1), padding=(2, 2))\n",
              "    (4): ReLU(inplace=True)\n",
              "    (5): MaxPool2d(kernel_size=3, stride=2, padding=0, dilation=1, ceil_mode=False)\n",
              "    (6): Conv2d(192, 384, kernel_size=(3, 3), stride=(1, 1), padding=(1, 1))\n",
              "    (7): ReLU(inplace=True)\n",
              "    (8): Conv2d(384, 256, kernel_size=(3, 3), stride=(1, 1), padding=(1, 1))\n",
              "    (9): ReLU(inplace=True)\n",
              "    (10): Conv2d(256, 256, kernel_size=(3, 3), stride=(1, 1), padding=(1, 1))\n",
              "    (11): ReLU(inplace=True)\n",
              "    (12): MaxPool2d(kernel_size=3, stride=2, padding=0, dilation=1, ceil_mode=False)\n",
              "  )\n",
              "  (avgpool): AdaptiveAvgPool2d(output_size=(6, 6))\n",
              "  (classifier): Sequential(\n",
              "    (0): Dropout(p=0.5, inplace=False)\n",
              "    (1): Linear(in_features=9216, out_features=4096, bias=True)\n",
              "    (2): ReLU(inplace=True)\n",
              "    (3): Dropout(p=0.5, inplace=False)\n",
              "    (4): Linear(in_features=4096, out_features=4096, bias=True)\n",
              "    (5): ReLU(inplace=True)\n",
              "    (6): Linear(in_features=4096, out_features=16, bias=True)\n",
              "  )\n",
              ")"
            ]
          },
          "metadata": {
            "tags": []
          },
          "execution_count": 24
        }
      ]
    },
    {
      "cell_type": "code",
      "metadata": {
        "id": "MxMkWVD8dS6Z",
        "colab_type": "code",
        "colab": {}
      },
      "source": [
        "def train(epoch, training_set, model):\n",
        "    for i in range(len(training_set)):\n",
        "      x_train, y_train = Variable(training_set[i][0]), Variable(training_set[i][1])\n",
        "      output_train = model(x_train.cuda(device))\n",
        "      loss_train = criterion(output_train, y_train.cuda(device))\n",
        "      optimizer.zero_grad()\n",
        "      loss_train.backward()\n",
        "      optimizer.step()\n",
        "\n",
        "def test(training_set, model):\n",
        "  with torch.no_grad():\n",
        "    total = 0\n",
        "    correct = 0\n",
        "    for i in range(len(training_set)):\n",
        "      x_test = Variable(training_set[i][0])\n",
        "      outputs = model(x_test.cuda(device))\n",
        "      _, predicted = torch.max(outputs.data, 1)\n",
        "      total += training_set[i][1].size(0)\n",
        "      correct += (predicted == training_set[i][1].cuda(device)).sum().item()\n",
        "    print('Test Accuracy of the model on test images: {} %'.format((correct / total) * 100))"
      ],
      "execution_count": 0,
      "outputs": []
    },
    {
      "cell_type": "code",
      "metadata": {
        "id": "nJuYu2iudUpu",
        "colab_type": "code",
        "outputId": "42291ef3-4e4b-4226-fbef-5cc59799a221",
        "colab": {
          "base_uri": "https://localhost:8080/",
          "height": 34
        }
      },
      "source": [
        "device = torch.device('cuda:0' if torch.cuda.is_available() else 'cpu')\n",
        "model = alexnet\n",
        "model.cuda(device)\n",
        "optimizer = Adam(model.parameters(), lr=0.0001)\n",
        "criterion = CrossEntropyLoss()\n",
        "start_time = time.time()\n",
        "for epoch in range(20):\n",
        "    train(epoch, trainloader_large, model)\n",
        "print(\"Time taken for training: \", round(time.time() - start_time), \"seconds\")"
      ],
      "execution_count": 0,
      "outputs": [
        {
          "output_type": "stream",
          "text": [
            "Time taken for training:  119 seconds\n"
          ],
          "name": "stdout"
        }
      ]
    },
    {
      "cell_type": "code",
      "metadata": {
        "id": "2yehXvjYm3og",
        "colab_type": "code",
        "outputId": "3b54fe4b-4a3d-49b0-bf9a-6cd3b6c20c56",
        "colab": {
          "base_uri": "https://localhost:8080/",
          "height": 51
        }
      },
      "source": [
        "start_time = time.time()\n",
        "test(testloader_large, model)\n",
        "print(\"Time taken for testing: \", round(time.time() - start_time), \"seconds\")"
      ],
      "execution_count": 0,
      "outputs": [
        {
          "output_type": "stream",
          "text": [
            "Test Accuracy of the model on test images: 83.75 %\n",
            "Time taken for testing:  0 seconds\n"
          ],
          "name": "stdout"
        }
      ]
    },
    {
      "cell_type": "markdown",
      "metadata": {
        "id": "Ul6hmiX1tqHU",
        "colab_type": "text"
      },
      "source": [
        "(1) The fully connected - Linear layer (final) of AlexNet having **in_features = 4096** and **out_features = 1000**\n",
        "\n",
        "`Linear(in_features=4096, out_features=1000, bias=True)`\n",
        "\n",
        "was replaced.\n",
        "\n",
        "(2) A new fully connected layer was added to give 16 outputs for each of our 16 classes.\n",
        "\n",
        "`Linear(in_features=4096, out_features=16, bias=True)`\n",
        "\n",
        "(3) The changed alexnet model has been trained and tested using cuda cores. The testing accuracy obtained = **83.75%** when the time taken for training was **119 seconds** and the time taken for testing was **~0 seconds**\n",
        "\n",
        "Resources Referred:\n",
        "\n",
        "https://medium.com/@kushajreal/training-alexnet-with-tips-and-checks-on-how-to-train-cnns-practical-cnns-in-pytorch-1-61daa679c74a\n",
        "\n",
        "https://neurohive.io/en/popular-networks/alexnet-imagenet-classification-with-deep-convolutional-neural-networks/"
      ]
    },
    {
      "cell_type": "code",
      "metadata": {
        "id": "QjchslKLGz9q",
        "colab_type": "code",
        "outputId": "e4a4c4ae-6a18-4f84-fef7-27aab800900f",
        "colab": {
          "base_uri": "https://localhost:8080/",
          "height": 442
        }
      },
      "source": [
        "alexnet = models.alexnet(pretrained=True)\n",
        "alexnet.classifier = alexnet.classifier[:-2]\n",
        "alexnet"
      ],
      "execution_count": 0,
      "outputs": [
        {
          "output_type": "execute_result",
          "data": {
            "text/plain": [
              "AlexNet(\n",
              "  (features): Sequential(\n",
              "    (0): Conv2d(3, 64, kernel_size=(11, 11), stride=(4, 4), padding=(2, 2))\n",
              "    (1): ReLU(inplace=True)\n",
              "    (2): MaxPool2d(kernel_size=3, stride=2, padding=0, dilation=1, ceil_mode=False)\n",
              "    (3): Conv2d(64, 192, kernel_size=(5, 5), stride=(1, 1), padding=(2, 2))\n",
              "    (4): ReLU(inplace=True)\n",
              "    (5): MaxPool2d(kernel_size=3, stride=2, padding=0, dilation=1, ceil_mode=False)\n",
              "    (6): Conv2d(192, 384, kernel_size=(3, 3), stride=(1, 1), padding=(1, 1))\n",
              "    (7): ReLU(inplace=True)\n",
              "    (8): Conv2d(384, 256, kernel_size=(3, 3), stride=(1, 1), padding=(1, 1))\n",
              "    (9): ReLU(inplace=True)\n",
              "    (10): Conv2d(256, 256, kernel_size=(3, 3), stride=(1, 1), padding=(1, 1))\n",
              "    (11): ReLU(inplace=True)\n",
              "    (12): MaxPool2d(kernel_size=3, stride=2, padding=0, dilation=1, ceil_mode=False)\n",
              "  )\n",
              "  (avgpool): AdaptiveAvgPool2d(output_size=(6, 6))\n",
              "  (classifier): Sequential(\n",
              "    (0): Dropout(p=0.5, inplace=False)\n",
              "    (1): Linear(in_features=9216, out_features=4096, bias=True)\n",
              "    (2): ReLU(inplace=True)\n",
              "    (3): Dropout(p=0.5, inplace=False)\n",
              "    (4): Linear(in_features=4096, out_features=4096, bias=True)\n",
              "  )\n",
              ")"
            ]
          },
          "metadata": {
            "tags": []
          },
          "execution_count": 25
        }
      ]
    },
    {
      "cell_type": "code",
      "metadata": {
        "id": "jLLyFUiEQ7Qt",
        "colab_type": "code",
        "outputId": "ecacd8c9-ae80-4f58-daad-d95cf2c77e88",
        "colab": {
          "base_uri": "https://localhost:8080/",
          "height": 34
        }
      },
      "source": [
        "def get_output(training_set, model):\n",
        "  output = []\n",
        "  for i in range(len(training_set)):\n",
        "    output_train = model(Variable(training_set[i][0]).cuda(device))\n",
        "    output.append(output_train)\n",
        "  return output\n",
        "\n",
        "device = torch.device('cuda:0' if torch.cuda.is_available() else 'cpu')\n",
        "model = alexnet\n",
        "model.cuda(device)\n",
        "start_time = time.time()\n",
        "alexnet_output = get_output(trainloader_large, model)\n",
        "print(\"Time taken for training: \", round(time.time() - start_time), \"seconds\")\n",
        "file = open('alexnet_output.pkl','wb')\n",
        "pickle.dump(alexnet_output, file)\n",
        "file.close()"
      ],
      "execution_count": 0,
      "outputs": [
        {
          "output_type": "stream",
          "text": [
            "Time taken for training:  1 seconds\n"
          ],
          "name": "stdout"
        }
      ]
    },
    {
      "cell_type": "code",
      "metadata": {
        "id": "L4UfwPNuu2ir",
        "colab_type": "code",
        "outputId": "1b99b9bf-359f-4639-e8e6-1bcd53378751",
        "colab": {
          "base_uri": "https://localhost:8080/",
          "height": 34
        }
      },
      "source": [
        "device = torch.device('cuda:0' if torch.cuda.is_available() else 'cpu')\n",
        "model = alexnet\n",
        "model.cuda(device)\n",
        "start_time = time.time()\n",
        "alexnet_output_test = get_output(testloader_large, model)\n",
        "file = open('alexnet_output_test.pkl','wb')\n",
        "pickle.dump(alexnet_output_test, file)\n",
        "file.close()\n",
        "print(\"Time taken for extracting testing image descriptors: \", round(time.time() - start_time), \"seconds\")"
      ],
      "execution_count": 0,
      "outputs": [
        {
          "output_type": "stream",
          "text": [
            "Time taken for extracting testing image descriptors:  0 seconds\n"
          ],
          "name": "stdout"
        }
      ]
    },
    {
      "cell_type": "code",
      "metadata": {
        "id": "F1ztMAp_VrUb",
        "colab_type": "code",
        "colab": {}
      },
      "source": [
        "file = open('alexnet_output.pkl', 'rb')\n",
        "alexnet_output = pickle.load(file)\n",
        "file.close()\n",
        "file = open('alexnet_output_test.pkl', 'rb')\n",
        "alexnet_output_test = pickle.load(file)\n",
        "file.close()\n",
        "alex_op_train = []\n",
        "alex_op_train_labels = []\n",
        "alex_op_test = []\n",
        "alex_op_test_labels = []\n",
        "for i in range(len(alexnet_output)):\n",
        "  for j in range(len(alexnet_output[i])):\n",
        "    alex_op_train.append(alexnet_output[i][j][:200].cpu().detach().numpy())\n",
        "    alex_op_train_labels.append(trainloader_large[i][1][j].item())\n",
        "for i in range(len(alexnet_output_test)):\n",
        "  for j in range(len(alexnet_output_test[i])):\n",
        "    alex_op_test.append(alexnet_output_test[i][j][:200].cpu().detach().numpy())\n",
        "    alex_op_test_labels.append(testloader_large[i][1][j].item())"
      ],
      "execution_count": 0,
      "outputs": []
    },
    {
      "cell_type": "code",
      "metadata": {
        "id": "ghbcLelt8azT",
        "colab_type": "code",
        "outputId": "d0f10f04-3799-4405-d451-2b8309c1bd8f",
        "colab": {
          "base_uri": "https://localhost:8080/",
          "height": 34
        }
      },
      "source": [
        "from sklearn.svm import LinearSVC\n",
        "from sklearn.metrics import accuracy_score\n",
        "linearSVCClassifier = LinearSVC(C=0.0001, multi_class=\"ovr\")\n",
        "linearSVCClassifier.fit(alex_op_train, alex_op_train_labels)\n",
        "pred = linearSVCClassifier.predict(alex_op_test)\n",
        "print('Accuracy: ', accuracy_score(pred, alex_op_test_labels)*100, '%')"
      ],
      "execution_count": 0,
      "outputs": [
        {
          "output_type": "stream",
          "text": [
            "Accuracy:  80.25 %\n"
          ],
          "name": "stdout"
        }
      ]
    },
    {
      "cell_type": "markdown",
      "metadata": {
        "id": "-3Wt2D23s3kT",
        "colab_type": "text"
      },
      "source": [
        "After training the Linear Support Vector Classifier with the first 200 activations generated for each image in the penultimate layer in alexnet, we get a test accuracy of **80.25%** when the model is tested with the actvations obtained for the test images."
      ]
    },
    {
      "cell_type": "code",
      "metadata": {
        "id": "I-0rVSCUXsYc",
        "colab_type": "code",
        "outputId": "bb582ca8-cd60-4381-fe2b-5806202a97a8",
        "colab": {
          "base_uri": "https://localhost:8080/",
          "height": 646
        }
      },
      "source": [
        "vgg = models.vgg11(pretrained=True)\n",
        "vgg.classifier[6] = Linear(in_features=4096, out_features=16, bias=True)\n",
        "vgg"
      ],
      "execution_count": 0,
      "outputs": [
        {
          "output_type": "stream",
          "text": [
            "Downloading: \"https://download.pytorch.org/models/vgg11-bbd30ac9.pth\" to /root/.cache/torch/checkpoints/vgg11-bbd30ac9.pth\n",
            "100%|██████████| 507M/507M [00:08<00:00, 65.3MB/s]\n"
          ],
          "name": "stderr"
        },
        {
          "output_type": "execute_result",
          "data": {
            "text/plain": [
              "VGG(\n",
              "  (features): Sequential(\n",
              "    (0): Conv2d(3, 64, kernel_size=(3, 3), stride=(1, 1), padding=(1, 1))\n",
              "    (1): ReLU(inplace=True)\n",
              "    (2): MaxPool2d(kernel_size=2, stride=2, padding=0, dilation=1, ceil_mode=False)\n",
              "    (3): Conv2d(64, 128, kernel_size=(3, 3), stride=(1, 1), padding=(1, 1))\n",
              "    (4): ReLU(inplace=True)\n",
              "    (5): MaxPool2d(kernel_size=2, stride=2, padding=0, dilation=1, ceil_mode=False)\n",
              "    (6): Conv2d(128, 256, kernel_size=(3, 3), stride=(1, 1), padding=(1, 1))\n",
              "    (7): ReLU(inplace=True)\n",
              "    (8): Conv2d(256, 256, kernel_size=(3, 3), stride=(1, 1), padding=(1, 1))\n",
              "    (9): ReLU(inplace=True)\n",
              "    (10): MaxPool2d(kernel_size=2, stride=2, padding=0, dilation=1, ceil_mode=False)\n",
              "    (11): Conv2d(256, 512, kernel_size=(3, 3), stride=(1, 1), padding=(1, 1))\n",
              "    (12): ReLU(inplace=True)\n",
              "    (13): Conv2d(512, 512, kernel_size=(3, 3), stride=(1, 1), padding=(1, 1))\n",
              "    (14): ReLU(inplace=True)\n",
              "    (15): MaxPool2d(kernel_size=2, stride=2, padding=0, dilation=1, ceil_mode=False)\n",
              "    (16): Conv2d(512, 512, kernel_size=(3, 3), stride=(1, 1), padding=(1, 1))\n",
              "    (17): ReLU(inplace=True)\n",
              "    (18): Conv2d(512, 512, kernel_size=(3, 3), stride=(1, 1), padding=(1, 1))\n",
              "    (19): ReLU(inplace=True)\n",
              "    (20): MaxPool2d(kernel_size=2, stride=2, padding=0, dilation=1, ceil_mode=False)\n",
              "  )\n",
              "  (avgpool): AdaptiveAvgPool2d(output_size=(7, 7))\n",
              "  (classifier): Sequential(\n",
              "    (0): Linear(in_features=25088, out_features=4096, bias=True)\n",
              "    (1): ReLU(inplace=True)\n",
              "    (2): Dropout(p=0.5, inplace=False)\n",
              "    (3): Linear(in_features=4096, out_features=4096, bias=True)\n",
              "    (4): ReLU(inplace=True)\n",
              "    (5): Dropout(p=0.5, inplace=False)\n",
              "    (6): Linear(in_features=4096, out_features=16, bias=True)\n",
              "  )\n",
              ")"
            ]
          },
          "metadata": {
            "tags": []
          },
          "execution_count": 5
        }
      ]
    },
    {
      "cell_type": "code",
      "metadata": {
        "id": "VJOa5sz6KNFm",
        "colab_type": "code",
        "outputId": "f9acc686-cd89-4706-e0ce-509bb54ff9fd",
        "colab": {
          "base_uri": "https://localhost:8080/",
          "height": 34
        }
      },
      "source": [
        "def trainVGG(epoch, training_set, model):\n",
        "    for i in range(len(training_set)):\n",
        "      x_train, y_train = Variable(training_set[i][0]), Variable(training_set[i][1])\n",
        "      output_train = model(x_train.cuda(device))\n",
        "      loss_train = criterion(output_train, y_train.cuda(device))\n",
        "      optimizer.zero_grad()\n",
        "      loss_train.backward()\n",
        "      optimizer.step()\n",
        "\n",
        "device = torch.device('cuda:0' if torch.cuda.is_available() else 'cpu')\n",
        "model = vgg\n",
        "model.cuda(device)\n",
        "optimizer = Adam(model.parameters(), lr=0.0001)\n",
        "criterion = CrossEntropyLoss()\n",
        "start_time = time.time()\n",
        "for epoch in range(20):\n",
        "    trainVGG(epoch, trainloader_large, model)\n",
        "print(\"Time taken for training: \", round(time.time() - start_time), \"seconds\")"
      ],
      "execution_count": 0,
      "outputs": [
        {
          "output_type": "stream",
          "text": [
            "Time taken for training:  740 seconds\n"
          ],
          "name": "stdout"
        }
      ]
    },
    {
      "cell_type": "code",
      "metadata": {
        "id": "q_3bZK02nnDm",
        "colab_type": "code",
        "outputId": "5224cd4e-7699-4d6f-a872-c78f1e26e151",
        "colab": {
          "base_uri": "https://localhost:8080/",
          "height": 51
        }
      },
      "source": [
        "def testVGG(training_set, model):\n",
        "  with torch.no_grad():\n",
        "    total = 0\n",
        "    correct = 0\n",
        "    for i in range(len(training_set)):\n",
        "      x_test = Variable(training_set[i][0])\n",
        "      outputs = model(x_test.cuda(device))\n",
        "      _, predicted = torch.max(outputs.data, 1)\n",
        "      total += training_set[i][1].size(0)\n",
        "      correct += (predicted == training_set[i][1].cuda(device)).sum().item()\n",
        "    print('Test Accuracy of the model on test images: {} %'.format((correct / total) * 100))\n",
        "start_time = time.time()\n",
        "testVGG(testloader_large, model)\n",
        "print(\"Time taken for testing: \", round(time.time() - start_time), \"seconds\")"
      ],
      "execution_count": 0,
      "outputs": [
        {
          "output_type": "stream",
          "text": [
            "Test Accuracy of the model on test images: 87.25 %\n",
            "Time taken for testing:  2 seconds\n"
          ],
          "name": "stdout"
        }
      ]
    },
    {
      "cell_type": "markdown",
      "metadata": {
        "id": "5NWcV7VCu5Ox",
        "colab_type": "text"
      },
      "source": [
        "A VGG net was trained and tested with the same data that was passed to the alexnet on cuda cores.\n",
        "\n",
        "The VGG Net's last layer was replaced in the similar way as done  before.\n",
        "\n",
        "Time taken for training VGG net = **740 seconds**\n",
        "\n",
        "Though the training time on the VGG net was significantly larger as compared to AlexNet, we observe a substantial increase in the testing accuracy of the model.\n",
        "\n",
        "VGG Net gives us an accuracy of **87.25%** which is an improvement of **3.5%** over AlexNet.\n",
        "\n",
        "In VGG Net, the convolution kernels are of size 3x3 as compared to multiple kernel sizes in AlexNet (11x11, 5x5, 3x3).\n",
        "\n",
        "These variable size kernels can be replicated by the 3x3 kernels in VGG which leads to reduction in the number of trainable variables. This property makes VGG Net more rboust to over-fitting, which might be the main cause behind the increase in testing accuracy.\n",
        "\n",
        "Moreover, the number of strides in the first convolutional layer of AlexNet is 4. This causes information loss in training of AlexNet which might result in a reduced testing accuracy.\n",
        "\n",
        "\n",
        "Resource Referred: https://towardsdatascience.com/the-w3h-of-alexnet-vggnet-resnet-and-inception-7baaaecccc96\n"
      ]
    },
    {
      "cell_type": "markdown",
      "metadata": {
        "id": "5UGefIYpYYNF",
        "colab_type": "text"
      },
      "source": [
        "## Submission guidelines\n",
        "---\n",
        "Extract the downloaded .zip file to a folder of your preference. The input and output paths are predefined and **DO NOT** change them, (we assume that 'Surname_Givenname_SBUID_hw4' is your working directory, and all the paths are relative to this directory).  The image read and write functions are already written for you. All you need to do is to fill in the blanks as indicated to generate proper outputs. **DO NOT** zip and upload the dataset on blackboard due to size limit.\n",
        "\n",
        "When submitting your .zip file through blackboard, please\n",
        "-- name your .zip file as **Surname_Givenname_SBUID_hw*.zip**.\n",
        "\n",
        "This zip file should include:\n",
        "```\n",
        "Surname_Givenname_SBUID_hw*\n",
        "        |---Surname_Givenname_SBUID_hw*.ipynb\n",
        "        |---Surname_Givenname_SBUID_hw*.py\n",
        "        |---Surname_Givenname_SBUID_hw*.pdf\n",
        "```\n",
        "where Surname_Givenname_SBUID_hw*.py is the Python code of Surname_Givenname_SBUID_hw*.ipynb, which can be dowloaded by File->Download .py.\n",
        "\n",
        "For instance, student Michael Jordan should submit a zip file named \"Jordan_Michael_111134567_hw4.zip\" for homework4 in this structure:\n",
        "```\n",
        "Jordan_Michael_111134567_hw4\n",
        "        |---Jordan_Michael_111134567_hw4.ipynb\n",
        "        |---Jordan_Michael_111134567_hw4.py\n",
        "        |---Jordan_Michael_111134567_hw4.pdf\n",
        "```\n",
        "\n",
        "The **Surname_Givenname_SBUID_hw*.pdf** should include a **google shared link** and **Surname_Givenname_SBUID_Pred*.pdf** should be your test set prediction file in the specified format. To generate the **google shared link**, first create a folder named **Surname_Givenname_SBUID_hw*** in your Google Drive with your Stony Brook account. The structure of the files in the folder should be exactly the same as the one you downloaded. If you alter the folder structures, the grading of your homework will be significantly delayed and possibly penalized.\n",
        "\n",
        "Then right click this folder, click ***Get shareable link***, in the People textfield, enter two TA's emails: ***bo.cao.1@stonybrook.edu*** and ***sayontan.ghosh@stonybrook.edu***. Make sure that TAs who have the link **can edit**, ***not just*** **can view**, and also **uncheck** the **Notify people** box.\n",
        "\n",
        "Colab has a good feature of version control, you should take advantage of this to save your work properly. However, the timestamp of the submission made in blackboard is the only one that we consider for grading. To be more specific, we will only grade the version of your code right before the timestamp of the submission made in blackboard. \n",
        "\n",
        "You are encouraged to post and answer questions on Piazza. Based on the amount of email that we have received in past years, there might be dealys in replying to personal emails. Please ask questions on Piazza and send emails only for personal issues.\n",
        "\n",
        "Be aware that your code will undergo plagiarism check both vertically and horizontally. Please do your own work.\n",
        "\n",
        "**Late submission penalty:** <br>\n",
        "There will be a 10% penalty per day for late submission. However, you will have 4 days throughout the whole semester to submit late without penalty. Note that the grace period is calculated by days instead of hours. If you submit the homework one minute after the deadline, one late day will be counted. Likewise, if you submit one minute after the deadline, the 10% penaly will be imposed if not using the grace period."
      ]
    },
    {
      "cell_type": "markdown",
      "metadata": {
        "id": "lt_T0gXgxtDj",
        "colab_type": "text"
      },
      "source": [
        "Drive Link: https://drive.google.com/drive/folders/1Z1J0tPbXFxJVgAom7Xpnuk9DVjHxYLjB?usp=sharing\n"
      ]
    },
    {
      "cell_type": "markdown",
      "metadata": {
        "id": "AYJOi8QYYYNG",
        "colab_type": "text"
      },
      "source": [
        "<!--Write your report here in markdown or html-->\n"
      ]
    }
  ]
}